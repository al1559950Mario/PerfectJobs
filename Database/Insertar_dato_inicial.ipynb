{
 "cells": [
  {
   "cell_type": "code",
   "execution_count": 2,
   "metadata": {},
   "outputs": [],
   "source": [
    "import mysql.connector\n",
    "import pandas as pd"
   ]
  },
  {
   "cell_type": "code",
   "execution_count": 25,
   "metadata": {},
   "outputs": [],
   "source": [
    "#Coneccion con la bd\n",
    "my_db = mysql.connector.connect(\n",
    "    host = \"bfrbtunhryqfh3eywkgx-mysql.services.clever-cloud.com\", \n",
    "    user = \"ub8frnffaufhoqum\",\n",
    "    passwd = \"4QWMy9S2vwBaQgYGI3zu\",\n",
    "    database = \"bfrbtunhryqfh3eywkgx\",\n",
    ")\n",
    "my_cursor = my_db.cursor()"
   ]
  },
  {
   "cell_type": "code",
   "execution_count": 10,
   "metadata": {},
   "outputs": [],
   "source": [
    "#importa data\n",
    "\n",
    "data_empleos = pd.read_csv(\"C:\\\\Users\\\\acer\\\\Desktop\\\\Nueva carpeta\\\\T1_Jobs_RS\\\\Data\\\\Data_completa_20211103.csv\")\n",
    "lista_empresas = data_empleos.Company.unique()\n",
    "\n",
    "data_empleos[[\"Academy_grade\", \"Years_Experience\", \"SoftSkill\", \"HardSkill\"]] = data_empleos[[\"Academy_grade\", \"Years_Experience\", \"SoftSkill\", \"HardSkill\"]].fillna(\" \")\n",
    "data_empleos[[\"Salary_min\", \"Salary_max\"]] = data_empleos[[\"Salary_min\", \"Salary_max\"]] .fillna(0)"
   ]
  },
  {
   "cell_type": "code",
   "execution_count": 8,
   "metadata": {},
   "outputs": [
    {
     "name": "stdout",
     "output_type": "stream",
     "text": [
      "('aspirantes',)\n",
      "('aspirantes_empleos',)\n",
      "('empleos',)\n",
      "('empresa',)\n"
     ]
    }
   ],
   "source": [
    "my_cursor = my_db.cursor()\n",
    "my_cursor.execute(\"Show tables\")\n",
    "for db in my_cursor:\n",
    "    print(db)\n"
   ]
  },
  {
   "cell_type": "code",
   "execution_count": 14,
   "metadata": {},
   "outputs": [],
   "source": [
    "#insert empresas\n",
    "for company in lista_empresas:\n",
    "    email = company.split(\" \", 2)\n",
    "    try:\n",
    "        email = str(email[0]) + \"_\" + str(email[1]) + \"gmail.com\"\n",
    "    except IndexError:\n",
    "        email = str(email[0]) + \"@gmail.com\"\n",
    "    #print(email)\n",
    "    my_cursor.execute(\"\"\"\n",
    "    insert into empresa (ID, Nombre,correoElectronico,Contraseña, razonSocial)\n",
    "    values (%s,%s,%s,%s,%s)\n",
    "    \"\"\",\n",
    "    (None, company,email,\"password\",\"12345\" )\n",
    "    )\n",
    "my_db.commit()"
   ]
  },
  {
   "cell_type": "code",
   "execution_count": 17,
   "metadata": {},
   "outputs": [
    {
     "data": {
      "text/html": [
       "<div>\n",
       "<style scoped>\n",
       "    .dataframe tbody tr th:only-of-type {\n",
       "        vertical-align: middle;\n",
       "    }\n",
       "\n",
       "    .dataframe tbody tr th {\n",
       "        vertical-align: top;\n",
       "    }\n",
       "\n",
       "    .dataframe thead th {\n",
       "        text-align: right;\n",
       "    }\n",
       "</style>\n",
       "<table border=\"1\" class=\"dataframe\">\n",
       "  <thead>\n",
       "    <tr style=\"text-align: right;\">\n",
       "      <th></th>\n",
       "      <th>id</th>\n",
       "      <th>Company</th>\n",
       "    </tr>\n",
       "  </thead>\n",
       "  <tbody>\n",
       "    <tr>\n",
       "      <th>0</th>\n",
       "      <td>1</td>\n",
       "      <td>luxoft</td>\n",
       "    </tr>\n",
       "    <tr>\n",
       "      <th>1</th>\n",
       "      <td>2</td>\n",
       "      <td>kavak.com</td>\n",
       "    </tr>\n",
       "    <tr>\n",
       "      <th>2</th>\n",
       "      <td>3</td>\n",
       "      <td>indus software solutions</td>\n",
       "    </tr>\n",
       "    <tr>\n",
       "      <th>3</th>\n",
       "      <td>4</td>\n",
       "      <td>zoolatech</td>\n",
       "    </tr>\n",
       "    <tr>\n",
       "      <th>4</th>\n",
       "      <td>5</td>\n",
       "      <td>confidencial</td>\n",
       "    </tr>\n",
       "    <tr>\n",
       "      <th>...</th>\n",
       "      <td>...</td>\n",
       "      <td>...</td>\n",
       "    </tr>\n",
       "    <tr>\n",
       "      <th>338</th>\n",
       "      <td>339</td>\n",
       "      <td>dsi</td>\n",
       "    </tr>\n",
       "    <tr>\n",
       "      <th>339</th>\n",
       "      <td>340</td>\n",
       "      <td>localadventures</td>\n",
       "    </tr>\n",
       "    <tr>\n",
       "      <th>340</th>\n",
       "      <td>341</td>\n",
       "      <td>trato</td>\n",
       "    </tr>\n",
       "    <tr>\n",
       "      <th>341</th>\n",
       "      <td>342</td>\n",
       "      <td>documentos digitales</td>\n",
       "    </tr>\n",
       "    <tr>\n",
       "      <th>342</th>\n",
       "      <td>343</td>\n",
       "      <td>isi solutions</td>\n",
       "    </tr>\n",
       "  </tbody>\n",
       "</table>\n",
       "<p>343 rows × 2 columns</p>\n",
       "</div>"
      ],
      "text/plain": [
       "      id                   Company\n",
       "0      1                    luxoft\n",
       "1      2                 kavak.com\n",
       "2      3  indus software solutions\n",
       "3      4                 zoolatech\n",
       "4      5              confidencial\n",
       "..   ...                       ...\n",
       "338  339                       dsi\n",
       "339  340           localadventures\n",
       "340  341                     trato\n",
       "341  342      documentos digitales\n",
       "342  343             isi solutions\n",
       "\n",
       "[343 rows x 2 columns]"
      ]
     },
     "execution_count": 17,
     "metadata": {},
     "output_type": "execute_result"
    }
   ],
   "source": [
    "my_cursor.execute(\"SELECT * FROM empresa\")\n",
    "data_empresas = pd.DataFrame(my_cursor.fetchall())\n",
    "#Tomar ID y nombre\n",
    "data_empresas = data_empresas.loc[:, [0,1]]\n",
    "data_empresas.rename(columns={0:'id', 1:'Company'}, inplace=True)\n",
    "data_empresas"
   ]
  },
  {
   "cell_type": "code",
   "execution_count": 18,
   "metadata": {},
   "outputs": [],
   "source": [
    "#Añadir id de la empresa al data frame\n",
    "data_empleos = pd.merge(data_empleos, data_empresas, on=\"Company\")"
   ]
  },
  {
   "cell_type": "code",
   "execution_count": 21,
   "metadata": {},
   "outputs": [],
   "source": [
    "for row in data_empleos.itertuples():\n",
    "    my_cursor.execute(\"\"\"\n",
    "    insert into empleos (ID, Titulo,Ubicacion,Descripcion, salarioMIN, salarioMAX, tipoPuesto,Idiomas, Escolaridad, experienciaLaboral, softSkills, hardSkills,Remoto,idEmpresa)\n",
    "    values (%s,%s,%s,%s,%s,%s,%s,%s,%s,%s,%s,%s,%s,%s)\n",
    "    \"\"\",\n",
    "    (None, row.Title ,row.Location,row.Description,row.Salary_min, row.Salary_max, row.Tipo_Puesto, row.English, row.Academy_grade, row.Years_Experience,row.SoftSkill ,row.HardSkill, row.Remoto, row.id)\n",
    "    )\n",
    "my_db.commit()"
   ]
  },
  {
   "cell_type": "code",
   "execution_count": 18,
   "metadata": {},
   "outputs": [],
   "source": [
    "my_db.close()"
   ]
  }
 ],
 "metadata": {
  "interpreter": {
   "hash": "43435a050d4ac362dc4b1b4851a0333547cf4819a4e47175b9a0f2919a9b0b1b"
  },
  "kernelspec": {
   "display_name": "Python 3.9.1 64-bit",
   "language": "python",
   "name": "python3"
  },
  "language_info": {
   "codemirror_mode": {
    "name": "ipython",
    "version": 3
   },
   "file_extension": ".py",
   "mimetype": "text/x-python",
   "name": "python",
   "nbconvert_exporter": "python",
   "pygments_lexer": "ipython3",
   "version": "3.9.1"
  },
  "orig_nbformat": 4
 },
 "nbformat": 4,
 "nbformat_minor": 2
}
